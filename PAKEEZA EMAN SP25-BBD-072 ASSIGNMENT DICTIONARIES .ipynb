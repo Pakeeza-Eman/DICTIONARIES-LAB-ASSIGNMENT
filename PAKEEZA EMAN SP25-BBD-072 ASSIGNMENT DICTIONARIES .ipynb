{
 "cells": [
  {
   "cell_type": "code",
   "execution_count": 1,
   "id": "b78ce000-7d26-4d18-91ff-8ce5b48c7567",
   "metadata": {},
   "outputs": [
    {
     "name": "stdout",
     "output_type": "stream",
     "text": [
      "{'name': 'Ali', 'age': 25, 'city': 'Lahore', 'hobbies': ['reading', 'cricket', 'coding']}\n"
     ]
    }
   ],
   "source": [
    "# QUESTION NO 01\n",
    "\n",
    "person = {\n",
    "    \"name\": \"Ali\",\n",
    "    \"age\": 25,\n",
    "    \"city\": \"Lahore\",\n",
    "    \"hobbies\": [\"reading\", \"cricket\", \"coding\"]\n",
    "}\n",
    "print(person)\n"
   ]
  },
  {
   "cell_type": "code",
   "execution_count": 2,
   "id": "f7a3b03a-e5aa-4269-9213-8df38724df6a",
   "metadata": {},
   "outputs": [
    {
     "name": "stdout",
     "output_type": "stream",
     "text": [
      "{'python': 2, 'is': 2, 'easy': 1, 'to': 1, 'learn': 1, 'and': 1, 'powerful': 1}\n"
     ]
    }
   ],
   "source": [
    "# QUESTION NO 02\n",
    "\n",
    "text = \"Python is easy to learn and Python is powerful\"\n",
    "\n",
    "words = text.lower().split()\n",
    "word_count = {}\n",
    "for word in words:\n",
    "    if word in word_count:\n",
    "        word_count[word] += 1\n",
    "    else:\n",
    "        word_count[word] = 1\n",
    "print(word_count)\n"
   ]
  },
  {
   "cell_type": "code",
   "execution_count": 4,
   "id": "b4b68f36-0237-4cc5-a616-29be7e7e3706",
   "metadata": {},
   "outputs": [
    {
     "name": "stdout",
     "output_type": "stream",
     "text": [
      "{'apples': 60, 'bananas': 30, 'mangoes': 15}\n"
     ]
    }
   ],
   "source": [
    "# QUESTION NO 03\n",
    "\n",
    "inventory = {\n",
    "    \"apples\": 50,\n",
    "    \"bananas\": 30,\n",
    "    \"oranges\": 20\n",
    "}\n",
    "inventory[\"mangoes\"] = 15\n",
    "inventory[\"apples\"] += 10  \n",
    "del inventory[\"oranges\"]\n",
    "print(inventory)\n"
   ]
  },
  {
   "cell_type": "code",
   "execution_count": 5,
   "id": "32aa0fcd-71a1-44da-883f-44a52515de6e",
   "metadata": {},
   "outputs": [
    {
     "name": "stdout",
     "output_type": "stream",
     "text": [
      "Most popular category: Electronics\n"
     ]
    }
   ],
   "source": [
    "# QUESTION NO 04\n",
    "orders = [\"Electronics\", \"Clothing\", \"Electronics\", \"Books\", \"Clothing\", \"Electronics\"]\n",
    "category_count = {}\n",
    "\n",
    "for item in orders:\n",
    "    if item in category_count:\n",
    "        category_count[item] += 1\n",
    "    else:\n",
    "        category_count[item] = 1\n",
    "\n",
    "most_popular = max(category_count, key=category_count.get)\n",
    "print(\"Most popular category:\", most_popular)\n"
   ]
  },
  {
   "cell_type": "code",
   "execution_count": 6,
   "id": "2decd525-8445-492c-9e1d-46cd7de6bc3d",
   "metadata": {},
   "outputs": [
    {
     "name": "stdout",
     "output_type": "stream",
     "text": [
      "Average grade: 86.25\n"
     ]
    }
   ],
   "source": [
    "# QUESTION NO 05\n",
    "grades = {\n",
    "    \"Ali\": 85,\n",
    "    \"Sara\": 90,\n",
    "    \"Ahmed\": 78,\n",
    "    \"Zara\": 92\n",
    "}\n",
    "total = sum(grades.values())\n",
    "average = total / len(grades)\n",
    "print(\"Average grade:\", average)\n"
   ]
  },
  {
   "cell_type": "code",
   "execution_count": 7,
   "id": "178235bd-1b79-41e9-a18a-55f26dee487d",
   "metadata": {},
   "outputs": [
    {
     "name": "stdout",
     "output_type": "stream",
     "text": [
      "Total inventory value: 1020\n",
      "Low stock: mango - Only 10 left\n",
      "Low stock: orange - Only 15 left\n"
     ]
    }
   ],
   "source": [
    "# QUESTION NO 06\n",
    "inventory = {\n",
    "    \"apple\": {\"quantity\": 50, \"price\": 10},\n",
    "    \"banana\": {\"quantity\": 30, \"price\": 5},\n",
    "    \"mango\": {\"quantity\": 10, \"price\": 20}\n",
    "}\n",
    "def add_product(name, quantity, price):\n",
    "    inventory[name] = {\"quantity\": quantity, \"price\": price}\n",
    "def update_quantity(name, quantity):\n",
    "    if name in inventory:\n",
    "        inventory[name][\"quantity\"] += quantity\n",
    "def total_value():\n",
    "    total = 0\n",
    "    for item in inventory.values():\n",
    "        total += item[\"quantity\"] * item[\"price\"]\n",
    "    return total\n",
    "def low_stock_report():\n",
    "    for name, info in inventory.items():\n",
    "        if info[\"quantity\"] < 20:\n",
    "            print(f\"Low stock: {name} - Only {info['quantity']} left\")\n",
    "add_product(\"orange\", 15, 8)\n",
    "update_quantity(\"banana\", 10)\n",
    "\n",
    "print(\"Total inventory value:\", total_value())\n",
    "low_stock_report()\n"
   ]
  },
  {
   "cell_type": "code",
   "execution_count": 8,
   "id": "e8e243d1-79ce-4a69-b2a4-0f1bf53c4612",
   "metadata": {},
   "outputs": [
    {
     "name": "stdout",
     "output_type": "stream",
     "text": [
      "Average of Ali: 87.5\n",
      "Highest in Math: Sara (92)\n",
      "Lowest in Math: Ahmed (76)\n",
      "Sara: 90.00\n",
      "Ali: 87.50\n",
      "Ahmed: 78.50\n"
     ]
    }
   ],
   "source": [
    "# QUESTION NO 07\n",
    "grades = {\n",
    "    \"Ali\": {\"Math\": 85, \"Science\": 90},\n",
    "    \"Sara\": {\"Math\": 92, \"Science\": 88},\n",
    "    \"Ahmed\": {\"Math\": 76, \"Science\": 81}\n",
    "}\n",
    "def average_grade(student):\n",
    "    marks = grades[student].values()\n",
    "    return sum(marks) / len(marks)\n",
    "    \n",
    "def highest_lowest(subject):\n",
    "    subject_grades = {name: info[subject] for name, info in grades.items()}\n",
    "    highest = max(subject_grades, key=subject_grades.get)\n",
    "    lowest = min(subject_grades, key=subject_grades.get)\n",
    "    print(f\"Highest in {subject}: {highest} ({subject_grades[highest]})\")\n",
    "    print(f\"Lowest in {subject}: {lowest} ({subject_grades[lowest]})\")\n",
    "    \n",
    "def sort_by_average():\n",
    "    avg_dict = {name: average_grade(name) for name in grades}\n",
    "    sorted_students = sorted(avg_dict.items(), key=lambda x: x[1], reverse=True)\n",
    "    for student, avg in sorted_students:\n",
    "        print(f\"{student}: {avg:.2f}\")\n",
    "\n",
    "print(\"Average of Ali:\", average_grade(\"Ali\"))\n",
    "highest_lowest(\"Math\")\n",
    "sort_by_average()\n"
   ]
  },
  {
   "cell_type": "code",
   "execution_count": 9,
   "id": "13916fe2-4142-4e5d-93fe-e29bece7d506",
   "metadata": {},
   "outputs": [
    {
     "name": "stdout",
     "output_type": "stream",
     "text": [
      "Cart: {'laptop': 1, 'mouse': 2}\n",
      "Total cost without discount/tax: 52000\n",
      "Final cost with 10% discount and 5% tax: 49400.0\n"
     ]
    }
   ],
   "source": [
    "# QUESTION NO 08\n",
    "products = {\n",
    "    \"laptop\": {\"price\": 50000, \"quantity\": 10},\n",
    "    \"mouse\": {\"price\": 1000, \"quantity\": 50},\n",
    "    \"keyboard\": {\"price\": 2000, \"quantity\": 30}\n",
    "}\n",
    "\n",
    "cart = {}\n",
    "def add_to_cart(product, quantity):\n",
    "    if product in products and products[product][\"quantity\"] >= quantity:\n",
    "        if product in cart:\n",
    "            cart[product] += quantity\n",
    "        else:\n",
    "            cart[product] = quantity\n",
    "        products[product][\"quantity\"] -= quantity\n",
    "def remove_from_cart(product):\n",
    "    if product in cart:\n",
    "        products[product][\"quantity\"] += cart[product]\n",
    "        del cart[product]\n",
    "def total_cost():\n",
    "    total = 0\n",
    "    for product, quantity in cart.items():\n",
    "        total += products[product][\"price\"] * quantity\n",
    "    return total\n",
    "def final_cost(discount_percent, tax_percent):\n",
    "    total = total_cost()\n",
    "    discount = (discount_percent / 100) * total\n",
    "    tax = (tax_percent / 100) * total\n",
    "    return total - discount + tax\n",
    "add_to_cart(\"laptop\", 1)\n",
    "add_to_cart(\"mouse\", 2)\n",
    "\n",
    "print(\"Cart:\", cart)\n",
    "print(\"Total cost without discount/tax:\", total_cost())\n",
    "print(\"Final cost with 10% discount and 5% tax:\", final_cost(10, 5))\n"
   ]
  }
 ],
 "metadata": {
  "kernelspec": {
   "display_name": "Python 3 (ipykernel)",
   "language": "python",
   "name": "python3"
  },
  "language_info": {
   "codemirror_mode": {
    "name": "ipython",
    "version": 3
   },
   "file_extension": ".py",
   "mimetype": "text/x-python",
   "name": "python",
   "nbconvert_exporter": "python",
   "pygments_lexer": "ipython3",
   "version": "3.12.7"
  }
 },
 "nbformat": 4,
 "nbformat_minor": 5
}
