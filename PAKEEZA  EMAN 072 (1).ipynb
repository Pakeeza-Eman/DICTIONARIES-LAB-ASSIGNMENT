{
 "cells": [
  {
   "cell_type": "code",
   "execution_count": 1,
   "id": "ae708a30-6fbc-4cd2-aa44-e6a70f455f72",
   "metadata": {},
   "outputs": [
    {
     "name": "stdout",
     "output_type": "stream",
     "text": [
      "10\n",
      "9\n",
      "8\n",
      "7\n",
      "6\n",
      "5\n",
      "4\n",
      "3\n",
      "2\n",
      "1\n",
      "Loop complete!\n"
     ]
    }
   ],
   "source": [
    "#QUESTION NO 01\n",
    "\n",
    "num = 10\n",
    "\n",
    "while num >= 1:\n",
    "    print(num)\n",
    "    num = num - 1\n",
    "\n",
    "print(\"Loop complete!\")\n"
   ]
  },
  {
   "cell_type": "code",
   "execution_count": 2,
   "id": "cad6e6b6-86e4-434b-af0b-a84dc23b54c8",
   "metadata": {},
   "outputs": [
    {
     "name": "stdout",
     "output_type": "stream",
     "text": [
      "2\n",
      "4\n",
      "6\n",
      "8\n",
      "10\n",
      "12\n",
      "14\n",
      "16\n",
      "18\n",
      "20\n"
     ]
    }
   ],
   "source": [
    "#QUESTION NO 02\n",
    "\n",
    "num = 2\n",
    "\n",
    "while num <= 20:\n",
    "    print(num)\n",
    "    num = num + 2\n"
   ]
  },
  {
   "cell_type": "code",
   "execution_count": 3,
   "id": "e4ae7e6e-00dd-40b6-9ba8-92c0c2cce696",
   "metadata": {},
   "outputs": [
    {
     "name": "stdin",
     "output_type": "stream",
     "text": [
      "Enter a number:  56\n"
     ]
    },
    {
     "name": "stdout",
     "output_type": "stream",
     "text": [
      "Sum is: 1596\n"
     ]
    }
   ],
   "source": [
    "#QUESTION NO 03\n",
    "\n",
    "n = int(input(\"Enter a number: \"))\n",
    "sum = 0\n",
    "i = 1\n",
    "\n",
    "while i <= n:\n",
    "    sum = sum + i\n",
    "    i = i + 1\n",
    "\n",
    "print(\"Sum is:\", sum)\n"
   ]
  },
  {
   "cell_type": "code",
   "execution_count": 4,
   "id": "9b3cabb6-58fe-454f-9504-ea00bd5e6ee1",
   "metadata": {},
   "outputs": [
    {
     "name": "stdin",
     "output_type": "stream",
     "text": [
      "Enter a positive number:  6\n"
     ]
    },
    {
     "name": "stdout",
     "output_type": "stream",
     "text": [
      "Thank you!\n"
     ]
    }
   ],
   "source": [
    "#QUESTION NO 04\n",
    "\n",
    "num = int(input(\"Enter a positive number: \"))\n",
    "\n",
    "while num <= 0:\n",
    "    print(\"Invalid! Please try again.\")\n",
    "    num = int(input(\"Enter a positive number: \"))\n",
    "\n",
    "print(\"Thank you!\")\n"
   ]
  },
  {
   "cell_type": "code",
   "execution_count": 5,
   "id": "c14f82de-0ff8-458c-96d2-9232a18dadbd",
   "metadata": {},
   "outputs": [
    {
     "name": "stdout",
     "output_type": "stream",
     "text": [
      "D\n",
      "a\n",
      "t\n",
      "a\n"
     ]
    }
   ],
   "source": [
    "#QUESTION NO 05\n",
    "\n",
    "s = \"Data\"\n",
    "i = 0\n",
    "\n",
    "while i < len(s):\n",
    "    print(s[i])\n",
    "    i = i + 1\n"
   ]
  },
  {
   "cell_type": "code",
   "execution_count": 6,
   "id": "ded335d4-55e5-4291-84ae-c587e8137315",
   "metadata": {},
   "outputs": [
    {
     "name": "stdin",
     "output_type": "stream",
     "text": [
      "Enter password:  54\n"
     ]
    },
    {
     "name": "stdout",
     "output_type": "stream",
     "text": [
      "Wrong password! Try again.\n"
     ]
    },
    {
     "name": "stdin",
     "output_type": "stream",
     "text": [
      "Enter password:  analytics123\n"
     ]
    },
    {
     "name": "stdout",
     "output_type": "stream",
     "text": [
      "Access granted.\n"
     ]
    }
   ],
   "source": [
    "#QUESTION NO 06\n",
    "\n",
    "correct_password = \"analytics123\"\n",
    "user_input = input(\"Enter password: \")\n",
    "\n",
    "while user_input != correct_password:\n",
    "    print(\"Wrong password! Try again.\")\n",
    "    user_input = input(\"Enter password: \")\n",
    "\n",
    "print(\"Access granted.\")\n"
   ]
  },
  {
   "cell_type": "code",
   "execution_count": 7,
   "id": "0783a14e-6c52-42d2-8456-10e08a8d63b7",
   "metadata": {},
   "outputs": [
    {
     "name": "stdin",
     "output_type": "stream",
     "text": [
      "Guess the number:  23\n"
     ]
    },
    {
     "name": "stdout",
     "output_type": "stream",
     "text": [
      "Too high\n"
     ]
    },
    {
     "name": "stdin",
     "output_type": "stream",
     "text": [
      "Try again:  7\n"
     ]
    },
    {
     "name": "stdout",
     "output_type": "stream",
     "text": [
      "Correct! You guessed it.\n"
     ]
    }
   ],
   "source": [
    "#QUESTION NO 07\n",
    "\n",
    "secret = 7\n",
    "guess = int(input(\"Guess the number: \"))\n",
    "\n",
    "while guess != secret:\n",
    "    if guess < secret:\n",
    "        print(\"Too low\")\n",
    "    else:\n",
    "        print(\"Too high\")\n",
    "    guess = int(input(\"Try again: \"))\n",
    "\n",
    "print(\"Correct! You guessed it.\")\n",
    "\n"
   ]
  },
  {
   "cell_type": "code",
   "execution_count": 8,
   "id": "eb14ad3c-be19-4793-8594-dc5566063f54",
   "metadata": {},
   "outputs": [
    {
     "name": "stdin",
     "output_type": "stream",
     "text": [
      "Enter a positive number:  76\n"
     ]
    },
    {
     "name": "stdout",
     "output_type": "stream",
     "text": [
      "Number of digits: 2\n"
     ]
    }
   ],
   "source": [
    "#QUESTION NO 08\n",
    "\n",
    "num = int(input(\"Enter a positive number: \"))\n",
    "count = 0\n",
    "\n",
    "while num > 0:\n",
    "    num = num // 10\n",
    "    count = count + 1\n",
    "\n",
    "print(\"Number of digits:\", count)\n"
   ]
  },
  {
   "cell_type": "code",
   "execution_count": 9,
   "id": "333ec8ff-dbf4-43a9-bc30-20e70928604f",
   "metadata": {},
   "outputs": [
    {
     "name": "stdin",
     "output_type": "stream",
     "text": [
      "Enter a number:  2\n"
     ]
    },
    {
     "name": "stdout",
     "output_type": "stream",
     "text": [
      "2 x 1 = 2\n",
      "2 x 2 = 4\n",
      "2 x 3 = 6\n",
      "2 x 4 = 8\n",
      "2 x 5 = 10\n",
      "2 x 6 = 12\n",
      "2 x 7 = 14\n",
      "2 x 8 = 16\n",
      "2 x 9 = 18\n",
      "2 x 10 = 20\n"
     ]
    }
   ],
   "source": [
    "#QUSTION NO 09\n",
    "\n",
    "num = int(input(\"Enter a number: \"))\n",
    "i = 1\n",
    "\n",
    "while i <= 10:\n",
    "    print(num, \"x\", i, \"=\", num * i)\n",
    "    i = i + 1\n"
   ]
  },
  {
   "cell_type": "code",
   "execution_count": null,
   "id": "756cb16d-4b46-41eb-bc9e-b25310e5362d",
   "metadata": {},
   "outputs": [],
   "source": [
    "#QUESTION NO 10\n",
    "\n"
   ]
  }
 ],
 "metadata": {
  "kernelspec": {
   "display_name": "Python 3 (ipykernel)",
   "language": "python",
   "name": "python3"
  },
  "language_info": {
   "codemirror_mode": {
    "name": "ipython",
    "version": 3
   },
   "file_extension": ".py",
   "mimetype": "text/x-python",
   "name": "python",
   "nbconvert_exporter": "python",
   "pygments_lexer": "ipython3",
   "version": "3.12.7"
  }
 },
 "nbformat": 4,
 "nbformat_minor": 5
}
